{
 "cells": [
  {
   "cell_type": "markdown",
   "metadata": {},
   "source": [
    "In this notebook we'll look at two different solutions (from two different programmers) to the following problem:\n",
    "\n",
    "Using any method in Python, explore the limit\n",
    "\n",
    "$$\\lim_{x\\to 0}\\dfrac{\\sin(x)}{x}$$\n",
    "\n",
    "numerically and graphically."
   ]
  },
  {
   "cell_type": "markdown",
   "metadata": {},
   "source": [
    "First, we import the Sympy library."
   ]
  },
  {
   "cell_type": "code",
   "execution_count": 1,
   "metadata": {},
   "outputs": [],
   "source": [
    "import sympy as sy\n",
    "x, y, z = sy.symbols('x y z')\n",
    "sy.init_printing(use_unicode=True)"
   ]
  },
  {
   "cell_type": "markdown",
   "metadata": {},
   "source": [
    "Next, we define our function."
   ]
  },
  {
   "cell_type": "code",
   "execution_count": 2,
   "metadata": {},
   "outputs": [],
   "source": [
    "def func(x):\n",
    "    return sy.sin(x)/x"
   ]
  },
  {
   "cell_type": "markdown",
   "metadata": {},
   "source": [
    "Let's confirm that this is what we want by asking Jupyter to display the function."
   ]
  },
  {
   "cell_type": "code",
   "execution_count": 3,
   "metadata": {},
   "outputs": [
    {
     "data": {
      "image/png": "[encoded data removed]",
      "text/latex": [
       "$$\\frac{1}{x} \\sin{\\left (x \\right )}$$"
      ],
      "text/plain": [
       "sin(x)\n",
       "──────\n",
       "  x   "
      ]
     },
     "execution_count": 3,
     "metadata": {},
     "output_type": "execute_result"
    }
   ],
   "source": [
    "func(x)"
   ]
  },
  {
   "cell_type": "markdown",
   "metadata": {},
   "source": [
    "Next, let's enter some test values for our function near $x=1$"
   ]
  },
  {
   "cell_type": "code",
   "execution_count": 4,
   "metadata": {},
   "outputs": [],
   "source": [
    "Xvalues = [0.5,-0.5,0.1,-0.1,0.01,-0.01,0.001,-0.001]"
   ]
  },
  {
   "cell_type": "markdown",
   "metadata": {},
   "source": [
    "Next, we create an array that can store the inputs and outputs from our function, and then populate it with values."
   ]
  },
  {
   "cell_type": "code",
   "execution_count": 5,
   "metadata": {},
   "outputs": [],
   "source": [
    "resultArray = []\n",
    "\n",
    "for values in Xvalues:\n",
    "    resultArray.append([str(values), func(values)])"
   ]
  },
  {
   "cell_type": "markdown",
   "metadata": {},
   "source": [
    "Finally, to investigate our limit numerically, we output values near $x=1$ in a table."
   ]
  },
  {
   "cell_type": "code",
   "execution_count": 6,
   "metadata": {},
   "outputs": [
    {
     "name": "stdout",
     "output_type": "stream",
     "text": [
      "values for f(x) = sin(x)/x\n",
      "x        | Results\n",
      "----------------------------\n",
      "0.5      | 0.958851077208406\n",
      "-0.5     | 0.958851077208406\n",
      "0.1      | 0.998334166468282\n",
      "-0.1     | 0.998334166468282\n",
      "0.01     | 0.999983333416666\n",
      "-0.01    | 0.999983333416666\n",
      "0.001    | 0.999999833333342\n",
      "-0.001   | 0.999999833333342\n"
     ]
    }
   ],
   "source": [
    "print(\"values for f(x) = sin(x)/x\")\n",
    "print(\"x\", \" \"*6, \"| Results\")\n",
    "print(\"-\"*28)\n",
    "for result in resultArray:\n",
    "    print (result[0], \" \"*(7 - len(result[0])), \"|\", result[1])"
   ]
  },
  {
   "cell_type": "code",
   "execution_count": 7,
   "metadata": {},
   "outputs": [],
   "source": [
    "fn = sy.sin(x)/x"
   ]
  },
  {
   "cell_type": "code",
   "execution_count": 9,
   "metadata": {},
   "outputs": [
    {
     "data": {
      "image/png": "[encoded data removed]",
      "text/plain": [
       "<matplotlib.figure.Figure at 0x7fdc922fe358>"
      ]
     },
     "metadata": {},
     "output_type": "display_data"
    }
   ],
   "source": [
    "graph = sy.plot(fn, (x, -0.5, 0.5))"
   ]
  },
  {
   "cell_type": "markdown",
   "metadata": {},
   "source": [
    "Now let's try another approach. First, we need to import a few more libraries."
   ]
  },
  {
   "cell_type": "code",
   "execution_count": 10,
   "metadata": {},
   "outputs": [],
   "source": [
    "import numpy as np\n",
    "import pandas as pd\n",
    "#from pylatex import Document, Section, Tabular\n",
    "import math as m;\n",
    "import matplotlib.pyplot as plt"
   ]
  },
  {
   "cell_type": "markdown",
   "metadata": {},
   "source": [
    "Next, we define our function, $f(x)=\\dfrac{\\sin(x)}{x}$. (We could use the one defined above, too.)"
   ]
  },
  {
   "cell_type": "code",
   "execution_count": 11,
   "metadata": {},
   "outputs": [],
   "source": [
    "def calculate(x):\n",
    "    return m.sin(x) / x;"
   ]
  },
  {
   "cell_type": "markdown",
   "metadata": {},
   "source": [
    "Next, we store some inputs, and then the corresponding outputs."
   ]
  },
  {
   "cell_type": "code",
   "execution_count": 12,
   "metadata": {},
   "outputs": [],
   "source": [
    "valuesToCalculate = [0.5,-0.5, 0.1, -0.1, 0.01, -0.01, 0.001, -0.001]\n",
    "output = [];\n",
    "for num in valuesToCalculate:\n",
    "    output.append(calculate(num));"
   ]
  },
  {
   "cell_type": "markdown",
   "metadata": {},
   "source": [
    "This time, we're going to handle our input and output data using the Python Pandas library."
   ]
  },
  {
   "cell_type": "code",
   "execution_count": 13,
   "metadata": {},
   "outputs": [],
   "source": [
    "data = { 'x' : pd.Series(valuesToCalculate),\n",
    "        'f(x)' : pd.Series(output) };"
   ]
  },
  {
   "cell_type": "markdown",
   "metadata": {},
   "source": [
    "We then use Pandas again to store the lists in a data frame and print the data frame which is in table form. (This saves us the trouble of having to build the table ourselves.)\n"
   ]
  },
  {
   "cell_type": "code",
   "execution_count": 14,
   "metadata": {},
   "outputs": [
    {
     "name": "stdout",
     "output_type": "stream",
     "text": [
      "       f(x)      x\n",
      "0  0.958851  0.500\n",
      "1  0.958851 -0.500\n",
      "2  0.998334  0.100\n",
      "3  0.998334 -0.100\n",
      "4  0.999983  0.010\n",
      "5  0.999983 -0.010\n",
      "6  1.000000  0.001\n",
      "7  1.000000 -0.001\n"
     ]
    }
   ],
   "source": [
    "tableData = pd.DataFrame(data);\n",
    "print(tableData);"
   ]
  },
  {
   "cell_type": "markdown",
   "metadata": {},
   "source": [
    "Now on to the graph. This time, we'll use the Numpy package to store the $x$ values for the points we want to plot."
   ]
  },
  {
   "cell_type": "code",
   "execution_count": 15,
   "metadata": {},
   "outputs": [],
   "source": [
    "minX = -5.0;\n",
    "maxX = 5.0;\n",
    "step = 0.001;\n",
    "plotValues = np.arange(minX, maxX, step);"
   ]
  },
  {
   "cell_type": "markdown",
   "metadata": {},
   "source": [
    "Next, we create an empty array and then use our function to populate it with $y$ values for the graph."
   ]
  },
  {
   "cell_type": "code",
   "execution_count": 16,
   "metadata": {},
   "outputs": [],
   "source": [
    "plotOutput = [];\n",
    "\n",
    "for num in plotValues:\n",
    "        plotOutput.append(calculate(num));"
   ]
  },
  {
   "cell_type": "markdown",
   "metadata": {},
   "source": [
    "Finally, we're ready to plot:"
   ]
  },
  {
   "cell_type": "code",
   "execution_count": 18,
   "metadata": {},
   "outputs": [
    {
     "data": {
      "image/png": "[encoded data removed]",
      "text/plain": [
       "<matplotlib.figure.Figure at 0x7fdc8d611f98>"
      ]
     },
     "metadata": {},
     "output_type": "display_data"
    }
   ],
   "source": [
    "plt.plot(plotValues, plotOutput);\n",
    "plt.axis([-3, 3, -0.1, 1.1]);\n",
    "plt.show();"
   ]
  },
  {
   "cell_type": "markdown",
   "metadata": {},
   "source": [
    "Hmm, this might not be quite what we wanted. Let's change the values in the `plt.axis` command to adjust the viewing window:"
   ]
  },
  {
   "cell_type": "code",
   "execution_count": null,
   "metadata": {},
   "outputs": [],
   "source": [
    "plt.plot(plotValues, plotOutput);\n",
    "plt.axis([-4, 4, -0.1, 1.1]);\n",
    "plt.show();"
   ]
  },
  {
   "cell_type": "code",
   "execution_count": null,
   "metadata": {},
   "outputs": [],
   "source": []
  }
 ],
 "metadata": {
  "kernelspec": {
   "display_name": "Python 3",
   "language": "python",
   "name": "python3"
  },
  "language_info": {
   "codemirror_mode": {
    "name": "ipython",
    "version": 3
   },
   "file_extension": ".py",
   "mimetype": "text/x-python",
   "name": "python",
   "nbconvert_exporter": "python",
   "pygments_lexer": "ipython3",
   "version": "3.6.5"
  }
 },
 "nbformat": 4,
 "nbformat_minor": 2
}
