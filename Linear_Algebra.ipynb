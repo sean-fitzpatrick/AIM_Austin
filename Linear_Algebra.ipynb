{
 "cells": [
  {
   "cell_type": "markdown",
   "metadata": {},
   "source": [
    "Here's an AIM Austin special: linear algebra in Python, in Jupyter, done last minute by someone who\n",
    "1. Doesn't know any python\n",
    "2. Had three beers with dinner\n",
    "3. But fortunately has internet access"
   ]
  },
  {
   "cell_type": "markdown",
   "metadata": {},
   "source": [
    "Let's start by loading some of the standard Python libraries."
   ]
  },
  {
   "cell_type": "code",
   "execution_count": 1,
   "metadata": {},
   "outputs": [],
   "source": [
    "from sympy import *\n",
    "init_printing()\n",
    "import numpy as np"
   ]
  },
  {
   "cell_type": "markdown",
   "metadata": {},
   "source": [
    "Sympy is a useful Python library for symbolic manipulation. If you're using Python notebooks, it's pretty much guaranteed that Sympy will appear in your Calculus and Linear Algebra notebooks. \n",
    "\n",
    "There is good [documentation](http://docs.sympy.org/latest/tutorial/calculus.html) for calculus in Sympy.\n",
    "\n",
    "It's relatively user-friendly, but it really shines in Jupyter, where rendering is done using MathJax. Here are [some more Sympy examples in Jupyter](http://nbviewer.jupyter.org/url/www.inp.nsk.su/~grozin/python/sympy.ipynb).\n",
    "\n",
    "Numpy is a numerical library, useful for things like handling values in vectors and matrices. Again, there is plenty of [useful documentation on the internet](http://rlhick.people.wm.edu/stories/linear-algebra-python-basics.html)\n",
    "\n",
    "Defining matrices in Numpy is straighforward. Let's define the matrices \n",
    "\n",
    "$$A = \\begin{bmatrix} 1&2\\\\3&4\\end{bmatrix} \\text{ and } B = \\begin{bmatrix} 6&-3\\\\-2&1\\end{bmatrix}$$"
   ]
  },
  {
   "cell_type": "code",
   "execution_count": 2,
   "metadata": {},
   "outputs": [],
   "source": [
    "A = np.matrix(\n",
    "    [[1,2],[3,4]])\n",
    "B = np.matrix(\n",
    "    [[6,-3],[-2,1]])"
   ]
  },
  {
   "cell_type": "markdown",
   "metadata": {},
   "source": [
    "Let's have Jupyter display one of our matrices. "
   ]
  },
  {
   "cell_type": "code",
   "execution_count": 3,
   "metadata": {},
   "outputs": [
    {
     "name": "stdout",
     "output_type": "stream",
     "text": [
      "[[1 2]\n",
      " [3 4]]\n"
     ]
    }
   ],
   "source": [
    "print(A)"
   ]
  },
  {
   "cell_type": "markdown",
   "metadata": {},
   "source": [
    "That's OK for display in Python, but less so in Jupyter. Here's a matrix entered using Sympy in Jupyter."
   ]
  },
  {
   "cell_type": "code",
   "execution_count": 4,
   "metadata": {},
   "outputs": [
    {
     "data": {
      "text/latex": [
       "$$\\left[\\begin{matrix}1 & 2 & 3\\\\4 & 5 & 6\\end{matrix}\\right]$$"
      ],
      "text/plain": [
       "[1  2  3]\n",
       "[       ]\n",
       "[4  5  6]"
      ]
     },
     "execution_count": 4,
     "metadata": {},
     "output_type": "execute_result"
    }
   ],
   "source": [
    "from sympy.interactive.printing import init_printing\n",
    "init_printing(use_unicode=False, wrap_line=False, no_global=True)\n",
    "from sympy.matrices import Matrix, eye, zeros, ones, diag, GramSchmidt\n",
    "M=Matrix([[1,2,3],[4,5,6]]);\n",
    "M"
   ]
  },
  {
   "cell_type": "markdown",
   "metadata": {},
   "source": [
    "Now that we've got our matrices in place, we can easily add and multiply them."
   ]
  },
  {
   "cell_type": "code",
   "execution_count": 5,
   "metadata": {},
   "outputs": [
    {
     "data": {
      "text/plain": [
       "matrix([[ 7, -1],\n",
       "        [ 1,  5]])"
      ]
     },
     "execution_count": 5,
     "metadata": {},
     "output_type": "execute_result"
    }
   ],
   "source": [
    "A+B"
   ]
  },
  {
   "cell_type": "code",
   "execution_count": 6,
   "metadata": {},
   "outputs": [
    {
     "data": {
      "text/plain": [
       "matrix([[ 2, -1],\n",
       "        [10, -5]])"
      ]
     },
     "execution_count": 6,
     "metadata": {},
     "output_type": "execute_result"
    }
   ],
   "source": [
    "A*B"
   ]
  },
  {
   "cell_type": "markdown",
   "metadata": {},
   "source": [
    "Now let's solve the system\n",
    "$$\n",
    "\\begin{array}{ccccc}\n",
    "x&+&2y&=&2\\\\\n",
    "3x&+&4y&=&3\n",
    "\\end{array}$$\n",
    "by realizing it as the matrix equation $\\begin{bmatrix}1&2\\\\3&4\\end{bmatrix}\\begin{bmatrix}x\\\\y\\end{bmatrix}=\\begin{bmatrix}2\\\\1\\end{bmatrix}$"
   ]
  },
  {
   "cell_type": "code",
   "execution_count": 7,
   "metadata": {},
   "outputs": [
    {
     "name": "stdout",
     "output_type": "stream",
     "text": [
      "[[-14.   7.]\n",
      " [ 10.  -5.]]\n"
     ]
    }
   ],
   "source": [
    "C=np.matrix([[2],[3]])\n",
    "X=np.linalg.solve(A,B)\n",
    "print(X)"
   ]
  },
  {
   "cell_type": "markdown",
   "metadata": {},
   "source": [
    "What else can we do? There's some basic documentation on the [plot.ly website](https://plot.ly/python/linear-algebra/). For example, we can do determinants and inverses."
   ]
  },
  {
   "cell_type": "code",
   "execution_count": 8,
   "metadata": {},
   "outputs": [],
   "source": [
    "det=np.linalg.det(A)\n",
    "inv=np.linalg.inv(A)"
   ]
  },
  {
   "cell_type": "code",
   "execution_count": 9,
   "metadata": {},
   "outputs": [
    {
     "data": {
      "image/png": "[encoded data removed]",
      "text/latex": [
       "$$-2.0$$"
      ],
      "text/plain": [
       "-2.0000000000000004"
      ]
     },
     "execution_count": 9,
     "metadata": {},
     "output_type": "execute_result"
    }
   ],
   "source": [
    "det"
   ]
  },
  {
   "cell_type": "code",
   "execution_count": 10,
   "metadata": {},
   "outputs": [
    {
     "data": {
      "text/plain": [
       "matrix([[-2. ,  1. ],\n",
       "        [ 1.5, -0.5]])"
      ]
     },
     "execution_count": 10,
     "metadata": {},
     "output_type": "execute_result"
    }
   ],
   "source": [
    "inv"
   ]
  },
  {
   "cell_type": "code",
   "execution_count": 11,
   "metadata": {},
   "outputs": [
    {
     "data": {
      "text/plain": [
       "array([-0.37228132,  5.37228132])"
      ]
     },
     "execution_count": 11,
     "metadata": {},
     "output_type": "execute_result"
    }
   ],
   "source": [
    "ev = np.linalg.eigvals(A)\n",
    "ev"
   ]
  },
  {
   "cell_type": "markdown",
   "metadata": {},
   "source": [
    "Pressed for time? Someone has done Jupyter notebooks for all of Gilbert Strang's Linear Algebra, and [released it as MIT Open Courseware](https://github.com/juanklopper/MIT_OCW_Linear_Algebra_18_06)!\n",
    "\n",
    "Dealing with advanced students? How about an entire Juptyer [textbook on numerical linear algebra](https://github.com/fastai/numerical-linear-algebra)?"
   ]
  },
  {
   "cell_type": "code",
   "execution_count": null,
   "metadata": {},
   "outputs": [],
   "source": []
  }
 ],
 "metadata": {
  "kernelspec": {
   "display_name": "Python 3",
   "language": "python",
   "name": "python3"
  },
  "language_info": {
   "codemirror_mode": {
    "name": "ipython",
    "version": 3
   },
   "file_extension": ".py",
   "mimetype": "text/x-python",
   "name": "python",
   "nbconvert_exporter": "python",
   "pygments_lexer": "ipython3",
   "version": "3.6.5"
  }
 },
 "nbformat": 4,
 "nbformat_minor": 2
}
