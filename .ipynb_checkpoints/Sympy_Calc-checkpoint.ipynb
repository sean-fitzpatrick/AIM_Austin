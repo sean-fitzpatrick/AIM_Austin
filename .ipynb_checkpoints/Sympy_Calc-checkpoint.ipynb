{
 "cells": [
  {
   "cell_type": "code",
   "execution_count": 1,
   "metadata": {},
   "outputs": [],
   "source": [
    "import sympy as sy\n",
    "from sympy import *\n",
    "x, y, z = symbols('x y z')\n",
    "init_printing(use_unicode=True)"
   ]
  },
  {
   "cell_type": "code",
   "execution_count": 2,
   "metadata": {},
   "outputs": [
    {
     "data": {
      "image/png": "[encoded data removed]",
      "text/latex": [
       "$$2 x e^{x^{2}}$$"
      ],
      "text/plain": [
       "     ⎛ 2⎞\n",
       "     ⎝x ⎠\n",
       "2⋅x⋅ℯ    "
      ]
     },
     "execution_count": 2,
     "metadata": {},
     "output_type": "execute_result"
    }
   ],
   "source": [
    "diff(exp(x**2))"
   ]
  },
  {
   "cell_type": "code",
   "execution_count": 3,
   "metadata": {},
   "outputs": [],
   "source": [
    "f=exp(x**3)"
   ]
  },
  {
   "cell_type": "code",
   "execution_count": 4,
   "metadata": {},
   "outputs": [
    {
     "data": {
      "image/png": "[encoded data removed]",
      "text/latex": [
       "$$3 \\left(9 x^{6} + 18 x^{3} + 2\\right) e^{x^{3}}$$"
      ],
      "text/plain": [
       "                      ⎛ 3⎞\n",
       "  ⎛   6       3    ⎞  ⎝x ⎠\n",
       "3⋅⎝9⋅x  + 18⋅x  + 2⎠⋅ℯ    "
      ]
     },
     "execution_count": 4,
     "metadata": {},
     "output_type": "execute_result"
    }
   ],
   "source": [
    "diff(f,x,x,x)"
   ]
  },
  {
   "cell_type": "code",
   "execution_count": 5,
   "metadata": {},
   "outputs": [
    {
     "data": {
      "image/png": "[encoded data removed]",
      "text/latex": [
       "$$27 x^{2} \\left(81 x^{12} + 1134 x^{9} + 4410 x^{6} + 5040 x^{3} + 1120\\right) e^{x^{3}}$$"
      ],
      "text/plain": [
       "                                                     ⎛ 3⎞\n",
       "    2 ⎛    12         9         6         3       ⎞  ⎝x ⎠\n",
       "27⋅x ⋅⎝81⋅x   + 1134⋅x  + 4410⋅x  + 5040⋅x  + 1120⎠⋅ℯ    "
      ]
     },
     "execution_count": 5,
     "metadata": {},
     "output_type": "execute_result"
    }
   ],
   "source": [
    "diff(f,x,7)"
   ]
  },
  {
   "cell_type": "code",
   "execution_count": 6,
   "metadata": {},
   "outputs": [
    {
     "data": {
      "image/png": "[encoded data removed]",
      "text/latex": [
       "$$27 x^{2} \\left(81 x^{12} + 1134 x^{9} + 4410 x^{6} + 5040 x^{3} + 1120\\right) e^{x^{3}}$$"
      ],
      "text/plain": [
       "                                                     ⎛ 3⎞\n",
       "    2 ⎛    12         9         6         3       ⎞  ⎝x ⎠\n",
       "27⋅x ⋅⎝81⋅x   + 1134⋅x  + 4410⋅x  + 5040⋅x  + 1120⎠⋅ℯ    "
      ]
     },
     "execution_count": 6,
     "metadata": {},
     "output_type": "execute_result"
    }
   ],
   "source": [
    "f.diff(x,7)"
   ]
  },
  {
   "cell_type": "code",
   "execution_count": 7,
   "metadata": {},
   "outputs": [],
   "source": [
    "fp=Derivative(f,x)"
   ]
  },
  {
   "cell_type": "code",
   "execution_count": 8,
   "metadata": {},
   "outputs": [
    {
     "data": {
      "image/png": "[encoded data removed]",
      "text/latex": [
       "$$\\frac{d}{d x} e^{x^{3}}$$"
      ],
      "text/plain": [
       "  ⎛ ⎛ 3⎞⎞\n",
       "d ⎜ ⎝x ⎠⎟\n",
       "──⎝ℯ    ⎠\n",
       "dx       "
      ]
     },
     "execution_count": 8,
     "metadata": {},
     "output_type": "execute_result"
    }
   ],
   "source": [
    "fp"
   ]
  },
  {
   "cell_type": "code",
   "execution_count": 9,
   "metadata": {},
   "outputs": [
    {
     "data": {
      "image/png": "[encoded data removed]",
      "text/latex": [
       "$$3 x^{2} e^{x^{3}}$$"
      ],
      "text/plain": [
       "      ⎛ 3⎞\n",
       "   2  ⎝x ⎠\n",
       "3⋅x ⋅ℯ    "
      ]
     },
     "execution_count": 9,
     "metadata": {},
     "output_type": "execute_result"
    }
   ],
   "source": [
    "fp.doit()"
   ]
  },
  {
   "cell_type": "code",
   "execution_count": null,
   "metadata": {},
   "outputs": [],
   "source": []
  }
 ],
 "metadata": {
  "kernelspec": {
   "display_name": "Python 3",
   "language": "python",
   "name": "python3"
  },
  "language_info": {
   "codemirror_mode": {
    "name": "ipython",
    "version": 3
   },
   "file_extension": ".py",
   "mimetype": "text/x-python",
   "name": "python",
   "nbconvert_exporter": "python",
   "pygments_lexer": "ipython3",
   "version": "3.6.5"
  }
 },
 "nbformat": 4,
 "nbformat_minor": 2
}
