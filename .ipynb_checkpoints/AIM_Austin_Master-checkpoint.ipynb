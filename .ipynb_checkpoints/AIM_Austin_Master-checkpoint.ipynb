{
 "cells": [
  {
   "cell_type": "markdown",
   "metadata": {
    "slideshow": {
     "slide_type": "slide"
    }
   },
   "source": [
    "# Jupyter notebooks for teaching\n",
    "## AIM Workshop: Curated Courses\n",
    "## Austin, TX, 8 August, 2018\n",
    "### Sean Fitzpatrick\n",
    "### University of Lethbridge"
   ]
  },
  {
   "cell_type": "markdown",
   "metadata": {
    "slideshow": {
     "slide_type": "slide"
    }
   },
   "source": [
    "Jupyter notebooks are a standard tool among (data) scientists for sharaing and visualizing data and procedures.\n",
    "\n",
    "**Jupyter** stands for **Ju**lia, **Pyt**hon and **R**. (That **e** though...)\n",
    "\n",
    "These are the three main languages (kernels) supported, but others, such as Sage (CoCalc) are common. It's possible to mix languages within a notebook using \"cell magics\". Many notebooks insert cells of HTML or JavaScript among their other code cells.\n",
    "\n",
    "Code can be mixed with explanatory text written in Markdown (with MathJax rendering) or HTML."
   ]
  },
  {
   "cell_type": "markdown",
   "metadata": {
    "slideshow": {
     "slide_type": "slide"
    }
   },
   "source": [
    "Advantages for teaching:\n",
    "- Easy production of lecture slides, PDF, etc.\n",
    "- Edting on the fly\n",
    "- Visualizations and interactivity\n",
    "- Access to real time data sets"
   ]
  },
  {
   "cell_type": "markdown",
   "metadata": {
    "slideshow": {
     "slide_type": "slide"
    }
   },
   "source": [
    "Jupyter in Western Canada:"
   ]
  },
  {
   "cell_type": "markdown",
   "metadata": {
    "slideshow": {
     "slide_type": "fragment"
    }
   },
   "source": [
    "PIMS Syzygy hubs at member sites for reseachers, teachers, and students."
   ]
  },
  {
   "cell_type": "markdown",
   "metadata": {
    "slideshow": {
     "slide_type": "fragment"
    }
   },
   "source": [
    "Example: [PIMS Lethbridge Hub](https://uleth.syzygy.ca) accessible to anyone with a Lethbridge single sign-on ID"
   ]
  },
  {
   "cell_type": "markdown",
   "metadata": {
    "slideshow": {
     "slide_type": "fragment"
    }
   },
   "source": [
    "Jupyter for K-12 being delivered via the [Callysto project](https://www.callysto.ca). Teachers and students across Western Canada will have access to the [Callysto hub](https://hub.callysto.ca) and a library of pre-built Jupyter notebooks. "
   ]
  },
  {
   "cell_type": "markdown",
   "metadata": {
    "slideshow": {
     "slide_type": "slide"
    }
   },
   "source": [
    "## Callysto notebooks\n",
    "\n",
    "Students, and faculty at PIMS sites, together with local teachers, working together to produce, review and refine Jupyter notebooks for use in the classroom. "
   ]
  },
  {
   "cell_type": "markdown",
   "metadata": {
    "slideshow": {
     "slide_type": "fragment"
    }
   },
   "source": [
    "[Multiplication and division of fractions](../curriculum-notebooks/Mathematics/multiplication-division-fractions.ipynb)"
   ]
  },
  {
   "cell_type": "markdown",
   "metadata": {
    "slideshow": {
     "slide_type": "fragment"
    }
   },
   "source": [
    "[American revolution and geography](../callysto-sample-notebooks/notebooks/Social_Sciences/History/Geographic_progression_American_Revolution.ipynb)"
   ]
  },
  {
   "cell_type": "markdown",
   "metadata": {
    "slideshow": {
     "slide_type": "fragment"
    }
   },
   "source": [
    "One of the cool by-products of the Callysto project: [GeoGebra in Jupyter](Geogebra.ipynb)"
   ]
  },
  {
   "cell_type": "markdown",
   "metadata": {
    "slideshow": {
     "slide_type": "slide"
    }
   },
   "source": [
    "## Day-to-day teaching with Jupyter\n",
    "\n",
    "[Michael Lamoureux](http://math.ucalgary.ca/math_unitis/profiles/michael-lamoureux) at Univeristy of Calgary/PIMS. Dr. Lamoureux has been using Jupyter in the classroom [for awhile](https://github.com/mlamoureux/Math651w17).\n",
    "\n",
    "Michael directs the Callysto and Syzygy projects, and promotes Jupyter through presentations such as [this](ML/AMD_2018/Jupyter_Research_and_Teaching.ipynb)"
   ]
  },
  {
   "cell_type": "markdown",
   "metadata": {
    "slideshow": {
     "slide_type": "fragment"
    }
   },
   "source": [
    "Simple calculus is easy in Python/Jupyter. Here's a short [sample experimentation](Sympy_Calc.ipynb)"
   ]
  },
  {
   "cell_type": "markdown",
   "metadata": {
    "slideshow": {
     "slide_type": "slide"
    }
   },
   "source": [
    "With a bit more work/Googling (or students who know Python), one can get a little fancier. Here's an [numerical and graphical exploration](sinc_values.ipynb) of the limit \n",
    "$$\\lim_{x\\to 0}\\frac{\\sin(x)}{x}$$\n",
    "as imagined by two of my students."
   ]
  },
  {
   "cell_type": "markdown",
   "metadata": {
    "slideshow": {
     "slide_type": "fragment"
    }
   },
   "source": [
    "Oh, and let's not forget [linear algebra](Linear_Algebra.ipynb)!"
   ]
  },
  {
   "cell_type": "markdown",
   "metadata": {
    "slideshow": {
     "slide_type": "slide"
    }
   },
   "source": [
    "## Dissemination to students\n",
    "\n",
    "There are several options for making Jupyter notebooks available to students:\n",
    "- Distribute files via LMS or website. Good if students are running Jupyter locally.\n",
    "\n",
    "If you have access to a Jupyter hub, there are other options: \n",
    "- My Binder links. Good if you want students to view a notebook and don't need them to be able to save changes.\n",
    "\n",
    "Here's [an example](http://bit.ly/2IRelx5) of a binder link."
   ]
  },
  {
   "cell_type": "markdown",
   "metadata": {
    "slideshow": {
     "slide_type": "slide"
    }
   },
   "source": [
    "\n",
    "- nbgitpuller links. These are do-it-all links: clicking the link signs the student into their Jupyter hub, clones a GitHub repository with the notebook, and launches the notebook.\n",
    "\n",
    "Typical link structure:\n",
    "[https://uleth.syzygy.ca/jupyter/hub/user-redirect/git-pull?repo=https://github.com/ULeth-Math-CS/Callysto/tree/master/Nathan/permutation](https://uleth.syzygy.ca/jupyter/hub/user-redirect/git-pull?repo=https://github.com/ULeth-Math-CS/Callysto/tree/master/Nathan/permutation)\n",
    "\n",
    "There is also some measure of automatic grading, called nbgrader. (But don't ask me about it.)"
   ]
  }
 ],
 "metadata": {
  "celltoolbar": "Slideshow",
  "kernelspec": {
   "display_name": "Python 3",
   "language": "python",
   "name": "python3"
  },
  "language_info": {
   "codemirror_mode": {
    "name": "ipython",
    "version": 3
   },
   "file_extension": ".py",
   "mimetype": "text/x-python",
   "name": "python",
   "nbconvert_exporter": "python",
   "pygments_lexer": "ipython3",
   "version": "3.6.5"
  }
 },
 "nbformat": 4,
 "nbformat_minor": 2
}
